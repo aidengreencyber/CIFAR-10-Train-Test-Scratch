{
 "cells": [
  {
   "cell_type": "code",
   "execution_count": 1,
   "id": "3ecdbf42-8dfe-419f-ba48-e0f462135d84",
   "metadata": {},
   "outputs": [],
   "source": [
    "import os\n",
    "import torch\n",
    "import imageio\n",
    "import torchvision\n",
    "from torch.utils.data import Dataset\n",
    "from torchvision import transforms\n",
    "from sklearn.model_selection import train_test_split\n",
    "from PIL import Image\n",
    "import torchvision.transforms as T\n",
    "import matplotlib.pyplot as plt\n",
    "import numpy as np"
   ]
  },
  {
   "cell_type": "code",
   "execution_count": 2,
   "id": "0e14356f-2d08-467c-a991-a6f318db3c1d",
   "metadata": {},
   "outputs": [],
   "source": [
    "import torch.nn as nn\n",
    "import torch.nn.functional as F\n",
    "import torch.optim as optim\n",
    "import imageio.v2 as imageio"
   ]
  },
  {
   "cell_type": "code",
   "execution_count": 3,
   "id": "2430571f-1de5-4b8f-ae82-ef55934c2eb1",
   "metadata": {},
   "outputs": [],
   "source": [
    "from sklearn.metrics import confusion_matrix\n",
    "from sklearn.metrics import precision_score, recall_score, accuracy_score, f1_score"
   ]
  },
  {
   "cell_type": "code",
   "execution_count": 4,
   "id": "dc18f652-5ce3-4a17-b3f1-2e22d912c0cc",
   "metadata": {},
   "outputs": [],
   "source": [
    "# !pip install torchvision"
   ]
  },
  {
   "cell_type": "code",
   "execution_count": null,
   "id": "8f1e297b-54bb-4bfa-9a40-470fe97ee36a",
   "metadata": {},
   "outputs": [
    {
     "data": {
      "text/plain": [
       "False"
      ]
     },
     "execution_count": 5,
     "metadata": {},
     "output_type": "execute_result"
    }
   ],
   "source": [
    "torch.cuda.is_available()"
   ]
  },
  {
   "cell_type": "code",
   "execution_count": 6,
   "id": "3bf1d865-1372-4668-8c93-26ce01eab528",
   "metadata": {},
   "outputs": [],
   "source": [
    "raw_data_train = '/Users/aiden/OneDrive/Desktop/Cybersecurity/CIFAR-10/CIFAR-10-images-master/train'\n",
    "raw_data_test  = '/Users/aiden/OneDrive/Desktop/Cybersecurity/CIFAR-10/CIFAR-10-images-master/test'"
   ]
  },
  {
   "cell_type": "code",
   "execution_count": 7,
   "id": "239fefbd-dc3d-4a45-b39a-7b86ecc8d531",
   "metadata": {},
   "outputs": [],
   "source": [
    "dataset_train = []\n",
    "labels_train  = []\n",
    "targets_train = []"
   ]
  },
  {
   "cell_type": "code",
   "execution_count": null,
   "id": "37a7e1ca-a87d-478d-8da2-a55e83ff0bd9",
   "metadata": {},
   "outputs": [
    {
     "name": "stdout",
     "output_type": "stream",
     "text": [
      "airplane\n"
     ]
    }
   ],
   "source": [
    "for folder in os.listdir(raw_data_train):\n",
    "    print(folder)\n",
    "    for image in os.listdir( os.path.join(raw_data_train, folder)):\n",
    "        if folder not in labels_train:\n",
    "            labels_train.append(folder)\n",
    "        targets_train.append(labels_train.index(folder))\n",
    "        img_arr = imageio.imread(os.path.join(raw_data_train, folder, image), pilmode=\"RGB\")\n",
    "        img = torch.from_numpy(img_arr).permute(2, 0, 1).float()\n",
    "        img /= 255\n",
    "        dataset_train.append(img)"
   ]
  },
  {
   "cell_type": "code",
   "execution_count": 58,
   "id": "7196ae86-418e-45d0-8982-167412e6a0d7",
   "metadata": {},
   "outputs": [
    {
     "data": {
      "text/plain": [
       "50000"
      ]
     },
     "execution_count": 58,
     "metadata": {},
     "output_type": "execute_result"
    }
   ],
   "source": [
    "len(targets_train)"
   ]
  },
  {
   "cell_type": "code",
   "execution_count": 59,
   "id": "e3092502-16a5-4bdf-ad33-ccd507934d90",
   "metadata": {},
   "outputs": [
    {
     "data": {
      "text/plain": [
       "torch.Size([3, 32, 32])"
      ]
     },
     "execution_count": 59,
     "metadata": {},
     "output_type": "execute_result"
    }
   ],
   "source": [
    "dataset_train[3].shape"
   ]
  },
  {
   "cell_type": "code",
   "execution_count": 65,
   "id": "9f95b274-4c2c-4421-8f1c-672cc102aeaf",
   "metadata": {},
   "outputs": [],
   "source": [
    "data_train = torch.stack(dataset_train)\n",
    "targets_train = torch.Tensor(targets_train).type(torch.LongTensor)\n",
    "\n",
    "torch.save((data_train, targets_train, labels_train), \"CIFAR10_data\")"
   ]
  },
  {
   "cell_type": "code",
   "execution_count": 66,
   "id": "a875b8dc-e156-493b-8103-acf248badc6a",
   "metadata": {},
   "outputs": [
    {
     "data": {
      "text/plain": [
       "torch.Size([50000, 3, 32, 32])"
      ]
     },
     "execution_count": 66,
     "metadata": {},
     "output_type": "execute_result"
    }
   ],
   "source": [
    "data_train.shape"
   ]
  },
  {
   "cell_type": "code",
   "execution_count": 67,
   "id": "db103b59-f62a-4e81-a5b0-b725a7464da0",
   "metadata": {},
   "outputs": [
    {
     "data": {
      "text/plain": [
       "torch.Size([50000])"
      ]
     },
     "execution_count": 67,
     "metadata": {},
     "output_type": "execute_result"
    }
   ],
   "source": [
    "targets_train.shape"
   ]
  },
  {
   "cell_type": "code",
   "execution_count": 68,
   "id": "35bb98b9-3d8d-49d3-ad96-723371f8fa29",
   "metadata": {},
   "outputs": [
    {
     "data": {
      "text/plain": [
       "torch.Size([3, 32, 32])"
      ]
     },
     "execution_count": 68,
     "metadata": {},
     "output_type": "execute_result"
    }
   ],
   "source": [
    "data_train[4].shape"
   ]
  },
  {
   "cell_type": "code",
   "execution_count": 69,
   "id": "22f5d8ea-407d-40dd-b7d8-7d217f43653c",
   "metadata": {},
   "outputs": [
    {
     "data": {
      "text/plain": [
       "tensor([4, 4, 4, 4, 4, 4, 4, 4, 4, 4, 4, 4, 4, 4, 4, 4, 4, 4, 4, 4, 4, 4, 4, 4,\n",
       "        4, 4, 4, 4, 4, 4, 4, 4, 4, 4, 4, 4, 4, 4, 4, 4, 4, 4, 4, 4, 4, 4, 4, 4,\n",
       "        4, 4, 4, 4, 4, 4, 4, 4, 4, 4, 4, 4, 4, 4, 4, 4, 4, 4, 4, 4, 4, 4, 4, 4,\n",
       "        4, 4, 4, 4, 4, 4, 4, 4, 4, 4, 4, 4, 4, 4, 4, 4, 4, 4, 4, 4, 4, 4, 4, 4,\n",
       "        4, 4, 4, 4, 4, 4, 4, 4, 4, 4, 4, 4, 4, 4, 4, 4, 4, 4, 4, 4, 4, 4, 4, 4,\n",
       "        4, 4, 4, 4, 4, 4, 4, 4, 4, 4, 4, 4, 4, 4, 4, 4, 4, 4, 4, 4, 4, 4, 4, 4,\n",
       "        4, 4, 4, 4, 4, 4, 4, 4, 4, 4, 4, 4, 4, 4, 4, 4, 4, 4, 4, 4, 4, 4, 4, 4,\n",
       "        4, 4, 4, 4, 4, 4, 4, 4, 4, 4, 4, 4, 4, 4, 4, 4, 4, 4, 4, 4, 4, 4, 4, 4,\n",
       "        4, 4, 4, 4, 4, 4, 4, 4, 4, 4, 4, 4, 4, 4, 4, 4, 4, 4, 4, 4, 4, 4, 4, 4,\n",
       "        4, 4, 4, 4, 4, 4, 4, 4, 4, 4, 4, 4, 4, 4, 4, 4, 4, 4, 4, 4, 4, 4, 4, 4,\n",
       "        4, 4, 4, 4, 4, 4, 4, 4, 4, 4, 4, 4, 4, 4, 4, 4, 4, 4, 4, 4, 4, 4, 4, 4,\n",
       "        4, 4, 4, 4, 4, 4, 4, 4, 4, 4, 4, 4, 4, 4, 4, 4, 4, 4, 4, 4, 4, 4, 4, 4,\n",
       "        4, 4, 4, 4, 4, 4, 4, 4, 4, 4, 4, 4, 4, 4, 4, 4, 4, 4, 4, 4, 4, 4, 4, 4,\n",
       "        4, 4, 4, 4, 4, 4, 4, 4, 4, 4, 4, 4, 4, 4, 4, 4, 4, 4, 4, 4, 4, 4, 4, 4,\n",
       "        4, 4, 4, 4, 4, 4, 4, 4, 4, 4, 4, 4, 4, 4, 4, 4, 4, 4, 4, 4, 4, 4, 4, 4,\n",
       "        4, 4, 4, 4, 4, 4, 4, 4, 4, 4, 4, 4, 4, 4, 4, 4, 4, 4, 4, 4, 4, 4, 4, 4,\n",
       "        4, 4, 4, 4, 4, 4, 4, 4, 4, 4, 4, 4, 4, 4, 4, 4, 4, 4, 4, 4, 4, 4, 4, 4,\n",
       "        4, 4, 4, 4, 4, 4, 4, 4, 4, 4, 4, 4, 4, 4, 4, 4, 4, 4, 4, 4, 4, 4, 4, 4,\n",
       "        4, 4, 4, 4, 4, 4, 4, 4, 4, 4, 4, 4, 4, 4, 4, 4, 4, 4, 4, 4, 4, 4, 4, 4,\n",
       "        4, 4, 4, 4, 4, 4, 4, 4, 4, 4, 4, 4, 4, 4, 4, 4, 4, 4, 4, 4, 4, 4, 4, 4,\n",
       "        4, 4, 4, 4, 4, 4, 4, 4, 4, 4, 4, 4, 4, 4, 4, 4, 4, 4, 4, 4, 4, 4, 4, 4,\n",
       "        4, 4, 4, 4, 4, 4, 4, 4, 4, 4, 4, 4, 4, 4, 4, 4, 4, 4, 4, 4, 4, 4, 4, 4,\n",
       "        4, 4, 4, 4, 4, 4, 4, 4, 4, 4, 4, 4, 4, 4, 4, 4, 4, 4, 4, 4, 4, 4, 4, 4,\n",
       "        4, 4, 4, 4, 4, 4, 4, 4, 4, 4, 4, 4, 4, 4, 4, 4, 4, 4, 4, 4, 4, 4, 4, 4,\n",
       "        4, 4, 4, 4, 4, 4, 4, 4, 4, 4, 4, 4, 4, 4, 4, 4, 4, 4, 4, 4, 4, 4, 4, 4,\n",
       "        4, 4, 4, 4, 4, 4, 4, 4, 4, 4, 4, 4, 4, 4, 4, 4, 4, 4, 4, 4, 4, 4, 4, 4,\n",
       "        4, 4, 4, 4, 4, 4, 4, 4, 4, 4, 4, 4, 4, 4, 4, 4, 4, 4, 4, 4, 4, 4, 4, 4,\n",
       "        4, 4, 4, 4, 4, 4, 4, 4, 4, 4, 4, 4, 4, 4, 4, 4, 4, 4, 4, 4, 4, 4, 4, 4,\n",
       "        4, 4, 4, 4, 4, 4, 4, 4, 4, 4, 4, 4, 4, 4, 4, 4, 4, 4, 4, 4, 4, 4, 4, 4,\n",
       "        4, 4, 4, 4, 4, 4, 4, 4, 4, 4, 4, 4, 4, 4, 4, 4, 4, 4, 4, 4, 4, 4, 4, 4,\n",
       "        4, 4, 4, 4, 4, 4, 4, 4, 4, 4, 4, 4, 4, 4, 4, 4, 4, 4, 4, 4, 4, 4, 4, 4,\n",
       "        4, 4, 4, 4, 4, 4, 4, 4, 4, 4, 4, 4, 4, 4, 4, 4, 4, 4, 4, 4, 4, 4, 4, 4,\n",
       "        4, 4, 4, 4, 4, 4, 4, 4, 4, 4, 4, 4, 4, 4, 4, 4, 4, 4, 4, 4, 4, 4, 4, 4,\n",
       "        4, 4, 4, 4, 4, 4, 4, 4, 4, 4, 4, 4, 4, 4, 4, 4, 4, 4, 4, 4, 4, 4, 4, 4,\n",
       "        4, 4, 4, 4, 4, 4, 4, 4, 4, 4, 4, 4, 4, 4, 4, 4, 4, 4, 4, 4, 4, 4, 4, 4,\n",
       "        4, 4, 4, 4, 4, 4, 4, 4, 4, 4, 4, 4, 4, 4, 4, 4, 4, 4, 4, 4, 4, 4, 4, 4,\n",
       "        4, 4, 4, 4, 4, 4, 4, 4, 4, 4, 4, 4, 4, 4, 4, 4, 4, 4, 4, 4, 4, 4, 4, 4,\n",
       "        4, 4, 4, 4, 4, 4, 4, 4, 4, 4, 4, 4, 4, 4, 4, 4, 4, 4, 4, 4, 4, 4, 4, 4,\n",
       "        4, 4, 4, 4, 4, 4, 4, 4, 4, 4, 4, 4, 4, 4, 4, 4, 4, 4, 4, 4, 4, 4, 4, 4,\n",
       "        4, 4, 4, 4, 4, 4, 4, 4, 4, 4, 4, 4, 4, 4, 4, 4, 4, 4, 4, 4, 4, 4, 4, 4,\n",
       "        4, 4, 4, 4, 4, 4, 4, 4, 4, 4, 4, 4, 4, 4, 4, 4, 4, 4, 4, 4, 4, 4, 4, 4,\n",
       "        4, 4, 4, 4, 4, 4, 4, 4, 4, 4, 4, 4, 4, 4, 4, 4])"
      ]
     },
     "execution_count": 69,
     "metadata": {},
     "output_type": "execute_result"
    }
   ],
   "source": [
    "targets_train[24000:25000]"
   ]
  },
  {
   "cell_type": "code",
   "execution_count": 70,
   "id": "48809c40-e5c5-40d1-9480-b9911b93cb56",
   "metadata": {},
   "outputs": [
    {
     "data": {
      "text/plain": [
       "tensor([[[0.8392, 0.8353, 0.7059,  ..., 0.2471, 0.2902, 0.2627],\n",
       "         [0.8235, 0.8353, 0.7765,  ..., 0.1922, 0.2510, 0.2353],\n",
       "         [0.8118, 0.7961, 0.7922,  ..., 0.1882, 0.2471, 0.2431],\n",
       "         ...,\n",
       "         [0.2078, 0.1647, 0.1255,  ..., 0.4275, 0.4275, 0.4314],\n",
       "         [0.2392, 0.2471, 0.2235,  ..., 0.4235, 0.4392, 0.4588],\n",
       "         [0.2314, 0.2510, 0.2275,  ..., 0.4078, 0.4275, 0.4588]],\n",
       "\n",
       "        [[0.7529, 0.7490, 0.6196,  ..., 0.2588, 0.2980, 0.2706],\n",
       "         [0.7294, 0.7490, 0.6824,  ..., 0.2078, 0.2588, 0.2510],\n",
       "         [0.7059, 0.7020, 0.6863,  ..., 0.2196, 0.2627, 0.2706],\n",
       "         ...,\n",
       "         [0.2118, 0.1647, 0.1255,  ..., 0.4000, 0.4039, 0.4196],\n",
       "         [0.2353, 0.2392, 0.2157,  ..., 0.3961, 0.4157, 0.4353],\n",
       "         [0.2196, 0.2392, 0.2118,  ..., 0.3725, 0.4039, 0.4353]],\n",
       "\n",
       "        [[0.5569, 0.5569, 0.4353,  ..., 0.1922, 0.2471, 0.2275],\n",
       "         [0.5412, 0.5569, 0.5098,  ..., 0.1412, 0.2039, 0.1961],\n",
       "         [0.5294, 0.5216, 0.5176,  ..., 0.1373, 0.1961, 0.2000],\n",
       "         ...,\n",
       "         [0.1569, 0.1176, 0.0941,  ..., 0.3608, 0.3569, 0.3608],\n",
       "         [0.1647, 0.1804, 0.1686,  ..., 0.3569, 0.3686, 0.3804],\n",
       "         [0.1451, 0.1725, 0.1647,  ..., 0.3373, 0.3569, 0.3804]]])"
      ]
     },
     "execution_count": 70,
     "metadata": {},
     "output_type": "execute_result"
    }
   ],
   "source": [
    "img_tr = data_train[46000]\n",
    "img_tr"
   ]
  },
  {
   "cell_type": "code",
   "execution_count": 71,
   "id": "edaa60e6-b592-4e77-870b-df24808d401d",
   "metadata": {},
   "outputs": [],
   "source": [
    "transform = T.ToPILImage()"
   ]
  },
  {
   "cell_type": "code",
   "execution_count": 72,
   "id": "22b31425-e5b3-4df3-ad7d-8c88f4723426",
   "metadata": {},
   "outputs": [],
   "source": [
    "img = transform(img_tr)"
   ]
  },
  {
   "cell_type": "code",
   "execution_count": 73,
   "id": "e9cd0e4d-1afa-4722-b4d1-64441960eb4e",
   "metadata": {},
   "outputs": [
    {
     "data": {
      "text/plain": [
       "array([0, 1, 2, 3, 4, 5, 6, 7, 8, 9])"
      ]
     },
     "execution_count": 73,
     "metadata": {},
     "output_type": "execute_result"
    }
   ],
   "source": [
    "y_train_np = targets_train.numpy()\n",
    "y_train_np.shape\n",
    "the_set = np.unique(y_train_np)\n",
    "the_set"
   ]
  },
  {
   "cell_type": "code",
   "execution_count": 74,
   "id": "0afa7d78-dc0a-4834-9a53-89afcbfd2a39",
   "metadata": {},
   "outputs": [
    {
     "data": {
      "image/png": "[encoded data removed]",
      "text/plain": [
       "<Figure size 640x480 with 1 Axes>"
      ]
     },
     "metadata": {},
     "output_type": "display_data"
    }
   ],
   "source": [
    "_ = plt.hist(targets_train.numpy(), bins=\"auto\")\n",
    "plt.show()"
   ]
  },
  {
   "cell_type": "code",
   "execution_count": 75,
   "id": "0cfca53a-8acc-46bd-ab7b-9b7fabb4628c",
   "metadata": {},
   "outputs": [],
   "source": [
    "dataset_test = []\n",
    "labels_test = []\n",
    "targets_test = []"
   ]
  },
  {
   "cell_type": "code",
   "execution_count": 76,
   "id": "706df6f1-8f26-4e41-8b16-0778323f6f2f",
   "metadata": {},
   "outputs": [
    {
     "name": "stdout",
     "output_type": "stream",
     "text": [
      "airplane\n",
      "automobile\n",
      "bird\n",
      "cat\n",
      "deer\n",
      "dog\n",
      "frog\n",
      "horse\n",
      "ship\n",
      "truck\n"
     ]
    }
   ],
   "source": [
    "for folder in os.listdir(raw_data_test):\n",
    "    print(folder)\n",
    "    for image in os.listdir(os.path.join(raw_data_test, folder)):\n",
    "        if folder not in labels_test:\n",
    "            labels_test.append(folder)\n",
    "        targets_test.append(labels_test.index(folder))\n",
    "        img_arr = imageio.imread( os.path.join(raw_data_test, folder, image), pilmode=\"RGB\")\n",
    "        img = torch.from_numpy(img_arr).permute(2, 0, 1).float()\n",
    "        img /= 255\n",
    "        dataset_test.append(img)"
   ]
  },
  {
   "cell_type": "code",
   "execution_count": 77,
   "id": "6848d3d7-9132-42c4-8dee-1f93cd54127f",
   "metadata": {},
   "outputs": [],
   "source": [
    "data_test = torch.stack(dataset_test)\n",
    "targets_test = torch.Tensor(targets_test).type(torch.LongTensor)\n",
    "torch.save((data_test, targets_test, labels_test), \"CIFAR10_data_test\")"
   ]
  },
  {
   "cell_type": "code",
   "execution_count": 78,
   "id": "5ab7930b-9b7f-415e-8f94-4dd83703f2ec",
   "metadata": {},
   "outputs": [
    {
     "data": {
      "text/plain": [
       "torch.Size([10000, 3, 32, 32])"
      ]
     },
     "execution_count": 78,
     "metadata": {},
     "output_type": "execute_result"
    }
   ],
   "source": [
    "data_test.shape"
   ]
  },
  {
   "cell_type": "code",
   "execution_count": 79,
   "id": "e47b0fd1-8633-42d1-800a-d90f6069b240",
   "metadata": {},
   "outputs": [
    {
     "data": {
      "text/plain": [
       "torch.Size([10000])"
      ]
     },
     "execution_count": 79,
     "metadata": {},
     "output_type": "execute_result"
    }
   ],
   "source": [
    "targets_test.shape"
   ]
  },
  {
   "cell_type": "code",
   "execution_count": 80,
   "id": "6ea63aa6-f491-4046-bbe8-ed03334a6f26",
   "metadata": {},
   "outputs": [
    {
     "data": {
      "image/png": "[encoded data removed]",
      "text/plain": [
       "<Figure size 640x480 with 1 Axes>"
      ]
     },
     "metadata": {},
     "output_type": "display_data"
    }
   ],
   "source": [
    "_ = plt.hist( targets_test.numpy() , bins=\"auto\" )\n",
    "plt.show()"
   ]
  },
  {
   "cell_type": "code",
   "execution_count": 81,
   "id": "70b7793c-826f-4844-b54a-f744914290d7",
   "metadata": {},
   "outputs": [],
   "source": [
    "X_train = data_train\n",
    "y_train = targets_train"
   ]
  },
  {
   "cell_type": "code",
   "execution_count": 82,
   "id": "9fc5fef1-3e0f-44fb-8a57-b341eefaf42a",
   "metadata": {},
   "outputs": [],
   "source": [
    "X_test = data_test\n",
    "y_test = targets_test"
   ]
  },
  {
   "cell_type": "code",
   "execution_count": 83,
   "id": "4c09a743-78e8-4130-a587-cfc9ca7455d7",
   "metadata": {},
   "outputs": [
    {
     "data": {
      "text/plain": [
       "50000"
      ]
     },
     "execution_count": 83,
     "metadata": {},
     "output_type": "execute_result"
    }
   ],
   "source": [
    "X_train.shape[0]"
   ]
  },
  {
   "cell_type": "code",
   "execution_count": 84,
   "id": "3782ed97-faf3-4656-803d-38414982805f",
   "metadata": {},
   "outputs": [
    {
     "data": {
      "text/plain": [
       "6"
      ]
     },
     "execution_count": 84,
     "metadata": {},
     "output_type": "execute_result"
    }
   ],
   "source": [
    "y_train[30000].item()"
   ]
  },
  {
   "cell_type": "code",
   "execution_count": 85,
   "id": "a286f09f-7846-4e3c-bdcc-20dd43474b40",
   "metadata": {},
   "outputs": [
    {
     "data": {
      "text/plain": [
       "tensor([[[0.4784, 0.4784, 0.4863,  ..., 0.4863, 0.4863, 0.4863],\n",
       "         [0.4941, 0.4941, 0.5059,  ..., 0.4784, 0.4784, 0.4784],\n",
       "         [0.5255, 0.5255, 0.5333,  ..., 0.4824, 0.4824, 0.4824],\n",
       "         ...,\n",
       "         [0.8078, 0.8078, 0.8000,  ..., 0.5294, 0.4510, 0.3765],\n",
       "         [0.6941, 0.6627, 0.6431,  ..., 0.5882, 0.5216, 0.3843],\n",
       "         [0.5843, 0.5529, 0.5529,  ..., 0.4078, 0.4196, 0.4706]],\n",
       "\n",
       "        [[0.8196, 0.8196, 0.8118,  ..., 0.7961, 0.7961, 0.7961],\n",
       "         [0.8275, 0.8314, 0.8235,  ..., 0.7882, 0.7882, 0.7882],\n",
       "         [0.8471, 0.8471, 0.8392,  ..., 0.7922, 0.7922, 0.7922],\n",
       "         ...,\n",
       "         [0.8392, 0.8471, 0.8471,  ..., 0.6039, 0.5255, 0.4549],\n",
       "         [0.7451, 0.7137, 0.7020,  ..., 0.6353, 0.5686, 0.4353],\n",
       "         [0.6392, 0.6078, 0.6196,  ..., 0.4471, 0.4588, 0.5098]],\n",
       "\n",
       "        [[0.9373, 0.9373, 0.9294,  ..., 0.9176, 0.9176, 0.9176],\n",
       "         [0.9412, 0.9373, 0.9373,  ..., 0.9098, 0.9098, 0.9098],\n",
       "         [0.9412, 0.9333, 0.9294,  ..., 0.9137, 0.9137, 0.9137],\n",
       "         ...,\n",
       "         [0.7490, 0.7529, 0.7608,  ..., 0.5176, 0.4392, 0.3569],\n",
       "         [0.6745, 0.6431, 0.6275,  ..., 0.5804, 0.5137, 0.3686],\n",
       "         [0.5725, 0.5412, 0.5490,  ..., 0.4118, 0.4157, 0.4667]]])"
      ]
     },
     "execution_count": 85,
     "metadata": {},
     "output_type": "execute_result"
    }
   ],
   "source": [
    "X_train[78]"
   ]
  },
  {
   "cell_type": "code",
   "execution_count": 86,
   "id": "18c8da95-f8ee-4d2f-a8d3-977c08a4edc6",
   "metadata": {},
   "outputs": [],
   "source": [
    "CIFAR_train_list = [(X_train[i], y_train[i].item()) for i in range(X_train.shape[0])]"
   ]
  },
  {
   "cell_type": "code",
   "execution_count": 87,
   "id": "e17edc67-743a-4905-a5d1-a60511b27e47",
   "metadata": {},
   "outputs": [],
   "source": [
    "CIFAR_test_list = [(X_test[i], y_test[i].item()) for i in range(X_test.shape[0])]"
   ]
  },
  {
   "cell_type": "code",
   "execution_count": 88,
   "id": "4e77dde1-4dd6-41ee-837f-ed060e63a198",
   "metadata": {},
   "outputs": [],
   "source": [
    "batch_size = 16"
   ]
  },
  {
   "cell_type": "code",
   "execution_count": 89,
   "id": "1a9f4b05-7ba4-4a66-9881-0767598cbd58",
   "metadata": {},
   "outputs": [],
   "source": [
    "train_dl = torch.utils.data.DataLoader(CIFAR_train_list, batch_size=batch_size, shuffle=True)"
   ]
  },
  {
   "cell_type": "code",
   "execution_count": 90,
   "id": "2c0e5551-471c-44ec-a47d-3b9c1acef085",
   "metadata": {},
   "outputs": [],
   "source": [
    "test_dl = torch.utils.data.DataLoader(CIFAR_test_list, batch_size=10000, shuffle=True)"
   ]
  },
  {
   "cell_type": "code",
   "execution_count": 91,
   "id": "3f0d8ce0-e29c-4d87-8c54-adf2185dfcf2",
   "metadata": {},
   "outputs": [],
   "source": [
    "class MLP_net(nn.Module):\n",
    "    def __init__(self):\n",
    "        super().__init__()\n",
    "        self.linear1 = nn.Linear( 32*32*3 ,20)\n",
    "        self.act1    = nn.Sigmoid()\n",
    "        self.linear2 = nn.Linear(20 , 10)\n",
    "        self.act2    = nn.Softmax(dim=1)\n",
    "    def forward(self, x):\n",
    "        x = self.linear1(x)\n",
    "        x = self.act1(x)\n",
    "        x = self.linear2(x)\n",
    "        y_pred = self.act2(x)\n",
    "        return y_pred"
   ]
  },
  {
   "cell_type": "code",
   "execution_count": 92,
   "id": "948be4ef-75e1-4c0a-b94e-050d34cba51e",
   "metadata": {},
   "outputs": [],
   "source": [
    "def training_loop( N_Epochs, model, loss_fn, opt ):\n",
    "    for epoch in range(N_Epochs):\n",
    "        for xb, yb in train_dl:\n",
    "            xb = xb.view((16, -1))\n",
    "            y_pred = model(xb)\n",
    "            loss = loss_fn(y_pred, yb)\n",
    "            opt.zero_grad()\n",
    "            loss.backward()\n",
    "            opt.step()\n",
    "        if epoch % 5 == 0:\n",
    "            print(epoch, \"loss=\", loss)"
   ]
  },
  {
   "cell_type": "code",
   "execution_count": 93,
   "id": "03abf4b9-8b90-4f56-bab9-066d091cf45d",
   "metadata": {},
   "outputs": [],
   "source": [
    "N_Epochs = 500\n",
    "learning_rate = 0.001"
   ]
  },
  {
   "cell_type": "code",
   "execution_count": 94,
   "id": "a7a131da-06b1-4ea8-ba9e-959aa226ddd1",
   "metadata": {},
   "outputs": [],
   "source": [
    "model = MLP_net()\n",
    "opt = torch.optim.Adam(model.parameters(), lr=learning_rate)\n",
    "loss_fn = nn.CrossEntropyLoss()"
   ]
  },
  {
   "cell_type": "code",
   "execution_count": 95,
   "id": "fa2700e5-bc79-4890-a469-12ad8be759cd",
   "metadata": {},
   "outputs": [
    {
     "name": "stdout",
     "output_type": "stream",
     "text": [
      "0 loss= tensor(2.2429, grad_fn=<NllLossBackward0>)\n",
      "5 loss= tensor(1.9965, grad_fn=<NllLossBackward0>)\n",
      "10 loss= tensor(2.1425, grad_fn=<NllLossBackward0>)\n",
      "15 loss= tensor(1.9137, grad_fn=<NllLossBackward0>)\n",
      "20 loss= tensor(2.0692, grad_fn=<NllLossBackward0>)\n",
      "25 loss= tensor(1.9504, grad_fn=<NllLossBackward0>)\n",
      "30 loss= tensor(1.9719, grad_fn=<NllLossBackward0>)\n",
      "35 loss= tensor(2.0401, grad_fn=<NllLossBackward0>)\n",
      "40 loss= tensor(2.1109, grad_fn=<NllLossBackward0>)\n",
      "45 loss= tensor(1.8464, grad_fn=<NllLossBackward0>)\n",
      "50 loss= tensor(1.9516, grad_fn=<NllLossBackward0>)\n",
      "55 loss= tensor(2.0901, grad_fn=<NllLossBackward0>)\n",
      "60 loss= tensor(2.0213, grad_fn=<NllLossBackward0>)\n",
      "65 loss= tensor(2.1084, grad_fn=<NllLossBackward0>)\n",
      "70 loss= tensor(2.0228, grad_fn=<NllLossBackward0>)\n",
      "75 loss= tensor(1.9320, grad_fn=<NllLossBackward0>)\n",
      "80 loss= tensor(2.0840, grad_fn=<NllLossBackward0>)\n",
      "85 loss= tensor(2.2907, grad_fn=<NllLossBackward0>)\n",
      "90 loss= tensor(2.1482, grad_fn=<NllLossBackward0>)\n",
      "95 loss= tensor(2.0467, grad_fn=<NllLossBackward0>)\n",
      "100 loss= tensor(1.9901, grad_fn=<NllLossBackward0>)\n",
      "105 loss= tensor(2.2052, grad_fn=<NllLossBackward0>)\n",
      "110 loss= tensor(2.2995, grad_fn=<NllLossBackward0>)\n",
      "115 loss= tensor(1.9344, grad_fn=<NllLossBackward0>)\n",
      "120 loss= tensor(1.8029, grad_fn=<NllLossBackward0>)\n",
      "125 loss= tensor(2.1276, grad_fn=<NllLossBackward0>)\n",
      "130 loss= tensor(2.0842, grad_fn=<NllLossBackward0>)\n",
      "135 loss= tensor(1.9230, grad_fn=<NllLossBackward0>)\n",
      "140 loss= tensor(2.0709, grad_fn=<NllLossBackward0>)\n",
      "145 loss= tensor(2.1237, grad_fn=<NllLossBackward0>)\n",
      "150 loss= tensor(1.8671, grad_fn=<NllLossBackward0>)\n",
      "155 loss= tensor(1.9643, grad_fn=<NllLossBackward0>)\n",
      "160 loss= tensor(2.1798, grad_fn=<NllLossBackward0>)\n",
      "165 loss= tensor(1.9140, grad_fn=<NllLossBackward0>)\n",
      "170 loss= tensor(2.1719, grad_fn=<NllLossBackward0>)\n",
      "175 loss= tensor(2.0652, grad_fn=<NllLossBackward0>)\n",
      "180 loss= tensor(1.8879, grad_fn=<NllLossBackward0>)\n",
      "185 loss= tensor(2.1606, grad_fn=<NllLossBackward0>)\n",
      "190 loss= tensor(2.2598, grad_fn=<NllLossBackward0>)\n",
      "195 loss= tensor(2.1606, grad_fn=<NllLossBackward0>)\n",
      "200 loss= tensor(2.0831, grad_fn=<NllLossBackward0>)\n",
      "205 loss= tensor(2.0804, grad_fn=<NllLossBackward0>)\n",
      "210 loss= tensor(2.2170, grad_fn=<NllLossBackward0>)\n",
      "215 loss= tensor(2.0256, grad_fn=<NllLossBackward0>)\n",
      "220 loss= tensor(2.2230, grad_fn=<NllLossBackward0>)\n",
      "225 loss= tensor(1.9655, grad_fn=<NllLossBackward0>)\n",
      "230 loss= tensor(2.1397, grad_fn=<NllLossBackward0>)\n",
      "235 loss= tensor(1.9915, grad_fn=<NllLossBackward0>)\n",
      "240 loss= tensor(1.8705, grad_fn=<NllLossBackward0>)\n",
      "245 loss= tensor(2.1779, grad_fn=<NllLossBackward0>)\n",
      "250 loss= tensor(2.2523, grad_fn=<NllLossBackward0>)\n",
      "255 loss= tensor(2.0093, grad_fn=<NllLossBackward0>)\n",
      "260 loss= tensor(1.8996, grad_fn=<NllLossBackward0>)\n",
      "265 loss= tensor(1.8118, grad_fn=<NllLossBackward0>)\n",
      "270 loss= tensor(1.6690, grad_fn=<NllLossBackward0>)\n",
      "275 loss= tensor(1.9184, grad_fn=<NllLossBackward0>)\n",
      "280 loss= tensor(1.9262, grad_fn=<NllLossBackward0>)\n",
      "285 loss= tensor(2.0313, grad_fn=<NllLossBackward0>)\n",
      "290 loss= tensor(2.1497, grad_fn=<NllLossBackward0>)\n",
      "295 loss= tensor(2.2484, grad_fn=<NllLossBackward0>)\n",
      "300 loss= tensor(1.9482, grad_fn=<NllLossBackward0>)\n",
      "305 loss= tensor(1.8645, grad_fn=<NllLossBackward0>)\n",
      "310 loss= tensor(1.9581, grad_fn=<NllLossBackward0>)\n",
      "315 loss= tensor(2.0992, grad_fn=<NllLossBackward0>)\n",
      "320 loss= tensor(2.1457, grad_fn=<NllLossBackward0>)\n",
      "325 loss= tensor(2.0935, grad_fn=<NllLossBackward0>)\n",
      "330 loss= tensor(1.9486, grad_fn=<NllLossBackward0>)\n",
      "335 loss= tensor(2.0704, grad_fn=<NllLossBackward0>)\n",
      "340 loss= tensor(2.0265, grad_fn=<NllLossBackward0>)\n",
      "345 loss= tensor(2.0609, grad_fn=<NllLossBackward0>)\n",
      "350 loss= tensor(1.9649, grad_fn=<NllLossBackward0>)\n",
      "355 loss= tensor(1.9458, grad_fn=<NllLossBackward0>)\n",
      "360 loss= tensor(2.0962, grad_fn=<NllLossBackward0>)\n",
      "365 loss= tensor(1.9518, grad_fn=<NllLossBackward0>)\n",
      "370 loss= tensor(2.2034, grad_fn=<NllLossBackward0>)\n",
      "375 loss= tensor(2.1039, grad_fn=<NllLossBackward0>)\n",
      "380 loss= tensor(2.0337, grad_fn=<NllLossBackward0>)\n",
      "385 loss= tensor(1.7986, grad_fn=<NllLossBackward0>)\n",
      "390 loss= tensor(1.8973, grad_fn=<NllLossBackward0>)\n",
      "395 loss= tensor(1.8961, grad_fn=<NllLossBackward0>)\n",
      "400 loss= tensor(1.9037, grad_fn=<NllLossBackward0>)\n",
      "405 loss= tensor(1.9178, grad_fn=<NllLossBackward0>)\n",
      "410 loss= tensor(1.9524, grad_fn=<NllLossBackward0>)\n",
      "415 loss= tensor(2.0246, grad_fn=<NllLossBackward0>)\n",
      "420 loss= tensor(1.8646, grad_fn=<NllLossBackward0>)\n",
      "425 loss= tensor(1.8478, grad_fn=<NllLossBackward0>)\n",
      "430 loss= tensor(2.0380, grad_fn=<NllLossBackward0>)\n",
      "435 loss= tensor(2.0694, grad_fn=<NllLossBackward0>)\n",
      "440 loss= tensor(1.8900, grad_fn=<NllLossBackward0>)\n",
      "445 loss= tensor(1.9074, grad_fn=<NllLossBackward0>)\n",
      "450 loss= tensor(1.9981, grad_fn=<NllLossBackward0>)\n",
      "455 loss= tensor(1.9296, grad_fn=<NllLossBackward0>)\n",
      "460 loss= tensor(2.0831, grad_fn=<NllLossBackward0>)\n",
      "465 loss= tensor(1.9011, grad_fn=<NllLossBackward0>)\n",
      "470 loss= tensor(2.1461, grad_fn=<NllLossBackward0>)\n",
      "475 loss= tensor(2.2318, grad_fn=<NllLossBackward0>)\n",
      "480 loss= tensor(2.0271, grad_fn=<NllLossBackward0>)\n",
      "485 loss= tensor(1.9300, grad_fn=<NllLossBackward0>)\n",
      "490 loss= tensor(2.1055, grad_fn=<NllLossBackward0>)\n",
      "495 loss= tensor(2.1137, grad_fn=<NllLossBackward0>)\n"
     ]
    }
   ],
   "source": [
    "training_loop(N_Epochs, model, loss_fn, opt)"
   ]
  },
  {
   "cell_type": "code",
   "execution_count": 96,
   "id": "7d7b05e5-b8b4-430c-962d-5dc7fbeb9edb",
   "metadata": {},
   "outputs": [],
   "source": [
    "def print_metrics_function(y_test, y_pred):\n",
    "    print('Accuracy: %.2f' % accuracy_score(y_test, y_pred))\n",
    "    confmat = confusion_matrix(y_true=y_test, y_pred=y_pred)\n",
    "    print(\"Confusion Matrix:\")\n",
    "    print(confmat)\n",
    "    print('Precision: %.3f' % precision_score(y_true=y_test, y_pred=y_pred, average='weighted'))\n",
    "    print('Recall: %.3f' % recall_score(y_true=y_test, y_pred=y_pred, average='weighted'))\n",
    "    print('F1-measure: %.3f' % f1_score(y_true=y_test, y_pred=y_pred, average='weighted'))"
   ]
  },
  {
   "cell_type": "code",
   "execution_count": 97,
   "id": "2612f312-02b5-4097-af0d-a7dd82ab1fa7",
   "metadata": {},
   "outputs": [
    {
     "name": "stdout",
     "output_type": "stream",
     "text": [
      "Accuracy: 0.41\n",
      "Confusion Matrix:\n",
      "[[508  40  32  56  12  22  24  63 162  81]\n",
      " [ 49 483  16  83   8  50  32  51  70 158]\n",
      " [130  42 202 131 126  91 121  89  47  21]\n",
      " [ 51  54  58 333  36 187 136  68  37  40]\n",
      " [ 77  15 114  82 311  83 143 129  26  20]\n",
      " [ 35  34  68 233  57 328  95  88  42  20]\n",
      " [ 13  21  76 153  98  78 485  47  15  14]\n",
      " [ 42  36  56 102  57  86  60 455  28  78]\n",
      " [119  70  12  51   3  50  14  26 568  87]\n",
      " [ 55 155   7  57   8  37  52  67 102 460]]\n",
      "Precision: 0.414\n",
      "Recall: 0.413\n",
      "F1-measure: 0.410\n"
     ]
    }
   ],
   "source": [
    "with torch.no_grad():\n",
    "    for x_real, y_real in test_dl:\n",
    "        batch_size = x_real.shape[0]\n",
    "        x_real = x_real.view((batch_size, -1))\n",
    "        y_pred = model(x_real)\n",
    "        vals, indeces = torch.max(y_pred, dim=1)\n",
    "        preds = indeces\n",
    "        print_metrics_function(y_real, preds)"
   ]
  },
  {
   "cell_type": "code",
   "execution_count": null,
   "id": "51124c8d-17a0-4a1d-a234-dd4b0e8aeb78",
   "metadata": {},
   "outputs": [],
   "source": []
  },
  {
   "cell_type": "code",
   "execution_count": null,
   "id": "f016e515-f955-404d-8199-133d1e4d22ff",
   "metadata": {},
   "outputs": [],
   "source": []
  }
 ],
 "metadata": {
  "kernelspec": {
   "display_name": "py310_agentsAI",
   "language": "python",
   "name": "python3"
  },
  "language_info": {
   "codemirror_mode": {
    "name": "ipython",
    "version": 3
   },
   "file_extension": ".py",
   "mimetype": "text/x-python",
   "name": "python",
   "nbconvert_exporter": "python",
   "pygments_lexer": "ipython3",
   "version": "3.10.16"
  }
 },
 "nbformat": 4,
 "nbformat_minor": 5
}
