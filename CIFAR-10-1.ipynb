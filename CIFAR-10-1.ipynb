{
 "cells": [
  {
   "cell_type": "code",
   "execution_count": null,
   "id": "3ecdbf42-8dfe-419f-ba48-e0f462135d84",
   "metadata": {},
   "outputs": [],
   "source": [
    "import os\n",
    "import torch\n",
    "import imageio\n",
    "import torchvision\n",
    "from torch.utils.data import Dataset\n",
    "from torchvision import transforms\n",
    "from sklearn.model_selection import train_test_split\n",
    "from PIL import Image\n",
    "import torchvision.transforms as T\n",
    "import matplotlib.pyplot as plt\n",
    "import numpy as np"
   ]
  },
  {
   "cell_type": "code",
   "execution_count": null,
   "id": "0e14356f-2d08-467c-a991-a6f318db3c1d",
   "metadata": {},
   "outputs": [],
   "source": [
    "import torch.nn as nn\n",
    "import torch.nn.functional as F\n",
    "import torch.optim as optim\n",
    "import imageio.v2 as imageio"
   ]
  },
  {
   "cell_type": "code",
   "execution_count": null,
   "id": "2430571f-1de5-4b8f-ae82-ef55934c2eb1",
   "metadata": {},
   "outputs": [],
   "source": [
    "from sklearn.metrics import confusion_matrix\n",
    "from sklearn.metrics import precision_score, recall_score, accuracy_score, f1_score"
   ]
  },
  {
   "cell_type": "code",
   "execution_count": null,
   "id": "dc18f652-5ce3-4a17-b3f1-2e22d912c0cc",
   "metadata": {},
   "outputs": [],
   "source": [
    "# !pip install torchvision"
   ]
  },
  {
   "cell_type": "code",
   "execution_count": null,
   "id": "8f1e297b-54bb-4bfa-9a40-470fe97ee36a",
   "metadata": {},
   "outputs": [],
   "source": [
    "torch.cuda.is_available()"
   ]
  },
  {
   "cell_type": "code",
   "execution_count": null,
   "id": "3bf1d865-1372-4668-8c93-26ce01eab528",
   "metadata": {},
   "outputs": [],
   "source": [
    "raw_data_train = '/Users/aiden/OneDrive/Desktop/Cybersecurity/CIFAR-10/CIFAR-10-images-master/train'\n",
    "raw_data_test  = '/Users/aiden/OneDrive/Desktop/Cybersecurity/CIFAR-10/CIFAR-10-images-master/test'"
   ]
  },
  {
   "cell_type": "code",
   "execution_count": null,
   "id": "239fefbd-dc3d-4a45-b39a-7b86ecc8d531",
   "metadata": {},
   "outputs": [],
   "source": [
    "dataset_train = []\n",
    "labels_train  = []\n",
    "targets_train = []"
   ]
  },
  {
   "cell_type": "code",
   "execution_count": null,
   "id": "37a7e1ca-a87d-478d-8da2-a55e83ff0bd9",
   "metadata": {},
   "outputs": [],
   "source": [
    "for folder in os.listdir(raw_data_train):\n",
    "    print(folder)\n",
    "    for image in os.listdir( os.path.join(raw_data_train, folder)):\n",
    "        if folder not in labels_train:\n",
    "            labels_train.append(folder)\n",
    "        targets_train.append(labels_train.index(folder))\n",
    "        img_arr = imageio.imread(os.path.join(raw_data_train, folder, image), pilmode=\"RGB\")\n",
    "        img = torch.from_numpy(img_arr).permute(2, 0, 1).float()\n",
    "        img /= 255\n",
    "        dataset_train.append(img)"
   ]
  },
  {
   "cell_type": "code",
   "execution_count": null,
   "id": "7196ae86-418e-45d0-8982-167412e6a0d7",
   "metadata": {},
   "outputs": [],
   "source": [
    "len(targets_train)"
   ]
  },
  {
   "cell_type": "code",
   "execution_count": null,
   "id": "e3092502-16a5-4bdf-ad33-ccd507934d90",
   "metadata": {},
   "outputs": [],
   "source": [
    "dataset_train[3].shape"
   ]
  },
  {
   "cell_type": "code",
   "execution_count": null,
   "id": "9f95b274-4c2c-4421-8f1c-672cc102aeaf",
   "metadata": {},
   "outputs": [],
   "source": [
    "data_train = torch.stack(dataset_train)\n",
    "targets_train = torch.Tensor(targets_train).type(torch.LongTensor)\n",
    "\n",
    "torch.save((data_train, targets_train, labels_train), \"CIFAR10_data\")"
   ]
  },
  {
   "cell_type": "code",
   "execution_count": null,
   "id": "a875b8dc-e156-493b-8103-acf248badc6a",
   "metadata": {},
   "outputs": [],
   "source": [
    "data_train.shape"
   ]
  },
  {
   "cell_type": "code",
   "execution_count": null,
   "id": "db103b59-f62a-4e81-a5b0-b725a7464da0",
   "metadata": {},
   "outputs": [],
   "source": [
    "targets_train.shape"
   ]
  },
  {
   "cell_type": "code",
   "execution_count": null,
   "id": "35bb98b9-3d8d-49d3-ad96-723371f8fa29",
   "metadata": {},
   "outputs": [],
   "source": [
    "data_train[4].shape"
   ]
  },
  {
   "cell_type": "code",
   "execution_count": null,
   "id": "22f5d8ea-407d-40dd-b7d8-7d217f43653c",
   "metadata": {},
   "outputs": [],
   "source": [
    "targets_train[24000:25000]"
   ]
  },
  {
   "cell_type": "code",
   "execution_count": null,
   "id": "48809c40-e5c5-40d1-9480-b9911b93cb56",
   "metadata": {},
   "outputs": [],
   "source": [
    "img_tr = data_train[46000]\n",
    "img_tr"
   ]
  },
  {
   "cell_type": "code",
   "execution_count": null,
   "id": "edaa60e6-b592-4e77-870b-df24808d401d",
   "metadata": {},
   "outputs": [],
   "source": [
    "transform = T.ToPILImage()"
   ]
  },
  {
   "cell_type": "code",
   "execution_count": null,
   "id": "22b31425-e5b3-4df3-ad7d-8c88f4723426",
   "metadata": {},
   "outputs": [],
   "source": [
    "img = transform(img_tr)"
   ]
  },
  {
   "cell_type": "code",
   "execution_count": null,
   "id": "e9cd0e4d-1afa-4722-b4d1-64441960eb4e",
   "metadata": {},
   "outputs": [],
   "source": [
    "y_train_np = targets_train.numpy()\n",
    "y_train_np.shape\n",
    "the_set = np.unique(y_train_np)\n",
    "the_set"
   ]
  },
  {
   "cell_type": "code",
   "execution_count": null,
   "id": "0afa7d78-dc0a-4834-9a53-89afcbfd2a39",
   "metadata": {},
   "outputs": [],
   "source": [
    "_ = plt.hist(targets_train.numpy(), bins=\"auto\")\n",
    "plt.show()"
   ]
  },
  {
   "cell_type": "code",
   "execution_count": null,
   "id": "0cfca53a-8acc-46bd-ab7b-9b7fabb4628c",
   "metadata": {},
   "outputs": [],
   "source": [
    "dataset_test = []\n",
    "labels_test = []\n",
    "targets_test = []"
   ]
  },
  {
   "cell_type": "code",
   "execution_count": null,
   "id": "706df6f1-8f26-4e41-8b16-0778323f6f2f",
   "metadata": {},
   "outputs": [],
   "source": [
    "for folder in os.listdir(raw_data_test):\n",
    "    print(folder)\n",
    "    for image in os.listdir(os.path.join(raw_data_test, folder)):\n",
    "        if folder not in labels_test:\n",
    "            labels_test.append(folder)\n",
    "        targets_test.append(labels_test.index(folder))\n",
    "        img_arr = imageio.imread( os.path.join(raw_data_test, folder, image), pilmode=\"RGB\")\n",
    "        img = torch.from_numpy(img_arr).permute(2, 0, 1).float()\n",
    "        img /= 255\n",
    "        dataset_test.append(img)"
   ]
  },
  {
   "cell_type": "code",
   "execution_count": null,
   "id": "6848d3d7-9132-42c4-8dee-1f93cd54127f",
   "metadata": {},
   "outputs": [],
   "source": [
    "data_test = torch.stack(dataset_test)\n",
    "targets_test = torch.Tensor(targets_test).type(torch.LongTensor)\n",
    "torch.save((data_test, targets_test, labels_test), \"CIFAR10_data_test\")"
   ]
  },
  {
   "cell_type": "code",
   "execution_count": null,
   "id": "5ab7930b-9b7f-415e-8f94-4dd83703f2ec",
   "metadata": {},
   "outputs": [],
   "source": [
    "data_test.shape"
   ]
  },
  {
   "cell_type": "code",
   "execution_count": null,
   "id": "e47b0fd1-8633-42d1-800a-d90f6069b240",
   "metadata": {},
   "outputs": [],
   "source": [
    "targets_test.shape"
   ]
  },
  {
   "cell_type": "code",
   "execution_count": null,
   "id": "6ea63aa6-f491-4046-bbe8-ed03334a6f26",
   "metadata": {},
   "outputs": [],
   "source": [
    "_ = plt.hist( targets_test.numpy() , bins=\"auto\" )\n",
    "plt.show()"
   ]
  },
  {
   "cell_type": "code",
   "execution_count": null,
   "id": "70b7793c-826f-4844-b54a-f744914290d7",
   "metadata": {},
   "outputs": [],
   "source": [
    "X_train = data_train\n",
    "y_train = targets_train"
   ]
  },
  {
   "cell_type": "code",
   "execution_count": null,
   "id": "9fc5fef1-3e0f-44fb-8a57-b341eefaf42a",
   "metadata": {},
   "outputs": [],
   "source": [
    "X_test = data_test\n",
    "y_test = targets_test"
   ]
  },
  {
   "cell_type": "code",
   "execution_count": null,
   "id": "4c09a743-78e8-4130-a587-cfc9ca7455d7",
   "metadata": {},
   "outputs": [],
   "source": [
    "X_train.shape[0]"
   ]
  },
  {
   "cell_type": "code",
   "execution_count": null,
   "id": "3782ed97-faf3-4656-803d-38414982805f",
   "metadata": {},
   "outputs": [],
   "source": [
    "y_train[30000].item()"
   ]
  },
  {
   "cell_type": "code",
   "execution_count": null,
   "id": "a286f09f-7846-4e3c-bdcc-20dd43474b40",
   "metadata": {},
   "outputs": [],
   "source": [
    "X_train[78]"
   ]
  },
  {
   "cell_type": "code",
   "execution_count": null,
   "id": "18c8da95-f8ee-4d2f-a8d3-977c08a4edc6",
   "metadata": {},
   "outputs": [],
   "source": [
    "CIFAR_train_list = [(X_train[i], y_train[i].item()) for i in range(X_train.shape[0])]"
   ]
  },
  {
   "cell_type": "code",
   "execution_count": null,
   "id": "e17edc67-743a-4905-a5d1-a60511b27e47",
   "metadata": {},
   "outputs": [],
   "source": [
    "CIFAR_test_list = [(X_test[i], y_test[i].item()) for i in range(X_test.shape[0])]"
   ]
  },
  {
   "cell_type": "code",
   "execution_count": null,
   "id": "4e77dde1-4dd6-41ee-837f-ed060e63a198",
   "metadata": {},
   "outputs": [],
   "source": [
    "batch_size = 16"
   ]
  },
  {
   "cell_type": "code",
   "execution_count": null,
   "id": "1a9f4b05-7ba4-4a66-9881-0767598cbd58",
   "metadata": {},
   "outputs": [],
   "source": [
    "train_dl = torch.utils.data.DataLoader(CIFAR_train_list, batch_size=batch_size, shuffle=True)"
   ]
  },
  {
   "cell_type": "code",
   "execution_count": null,
   "id": "2c0e5551-471c-44ec-a47d-3b9c1acef085",
   "metadata": {},
   "outputs": [],
   "source": [
    "test_dl = torch.utils.data.DataLoader(CIFAR_test_list, batch_size=10000, shuffle=True)"
   ]
  },
  {
   "cell_type": "code",
   "execution_count": null,
   "id": "3f0d8ce0-e29c-4d87-8c54-adf2185dfcf2",
   "metadata": {},
   "outputs": [],
   "source": [
    "class MLP_net(nn.Module):\n",
    "    def __init__(self):\n",
    "        super().__init__()\n",
    "        self.linear1 = nn.Linear( 32*32*3 ,20)\n",
    "        self.act1    = nn.Sigmoid()\n",
    "        self.linear2 = nn.Linear(20 , 10)\n",
    "        self.act2    = nn.Softmax(dim=1)\n",
    "    def forward(self, x):\n",
    "        x = self.linear1(x)\n",
    "        x = self.act1(x)\n",
    "        x = self.linear2(x)\n",
    "        y_pred = self.act2(x)\n",
    "        return y_pred"
   ]
  },
  {
   "cell_type": "code",
   "execution_count": null,
   "id": "948be4ef-75e1-4c0a-b94e-050d34cba51e",
   "metadata": {},
   "outputs": [],
   "source": [
    "def training_loop( N_Epochs, model, loss_fn, opt ):\n",
    "    for epoch in range(N_Epochs):\n",
    "        for xb, yb in train_dl:\n",
    "            xb = xb.view((16, -1))\n",
    "            y_pred = model(xb)\n",
    "            loss = loss_fn(y_pred, yb)\n",
    "            opt.zero_grad()\n",
    "            loss.backward()\n",
    "            opt.step()\n",
    "        if epoch % 5 == 0:\n",
    "            print(epoch, \"loss=\", loss)"
   ]
  },
  {
   "cell_type": "code",
   "execution_count": null,
   "id": "03abf4b9-8b90-4f56-bab9-066d091cf45d",
   "metadata": {},
   "outputs": [],
   "source": [
    "N_Epochs = 500\n",
    "learning_rate = 0.001"
   ]
  },
  {
   "cell_type": "code",
   "execution_count": null,
   "id": "a7a131da-06b1-4ea8-ba9e-959aa226ddd1",
   "metadata": {},
   "outputs": [],
   "source": [
    "model = MLP_net()\n",
    "opt = torch.optim.Adam(model.parameters(), lr=learning_rate)\n",
    "loss_fn = nn.CrossEntropyLoss()"
   ]
  },
  {
   "cell_type": "code",
   "execution_count": null,
   "id": "fa2700e5-bc79-4890-a469-12ad8be759cd",
   "metadata": {},
   "outputs": [],
   "source": [
    "training_loop(N_Epochs, model, loss_fn, opt)"
   ]
  },
  {
   "cell_type": "code",
   "execution_count": null,
   "id": "7d7b05e5-b8b4-430c-962d-5dc7fbeb9edb",
   "metadata": {},
   "outputs": [],
   "source": [
    "def print_metrics_function(y_test, y_pred):\n",
    "    print('Accuracy: %.2f' % accuracy_score(y_test, y_pred))\n",
    "    confmat = confusion_matrix(y_true=y_test, y_pred=y_pred)\n",
    "    print(\"Confusion Matrix:\")\n",
    "    print(confmat)\n",
    "    print('Precision: %.3f' % precision_score(y_true=y_test, y_pred=y_pred, average='weighted'))\n",
    "    print('Recall: %.3f' % recall_score(y_true=y_test, y_pred=y_pred, average='weighted'))\n",
    "    print('F1-measure: %.3f' % f1_score(y_true=y_test, y_pred=y_pred, average='weighted'))"
   ]
  },
  {
   "cell_type": "code",
   "execution_count": null,
   "id": "2612f312-02b5-4097-af0d-a7dd82ab1fa7",
   "metadata": {},
   "outputs": [],
   "source": [
    "with torch.no_grad():\n",
    "    for x_real, y_real in test_dl:\n",
    "        batch_size = x_real.shape[0]\n",
    "        x_real = x_real.view((batch_size, -1))\n",
    "        y_pred = model(x_real)\n",
    "        vals, indeces = torch.max(y_pred, dim=1)\n",
    "        preds = indeces\n",
    "        print_metrics_function(y_real, preds)"
   ]
  },
  {
   "cell_type": "code",
   "execution_count": null,
   "id": "51124c8d-17a0-4a1d-a234-dd4b0e8aeb78",
   "metadata": {},
   "outputs": [],
   "source": []
  },
  {
   "cell_type": "code",
   "execution_count": null,
   "id": "f016e515-f955-404d-8199-133d1e4d22ff",
   "metadata": {},
   "outputs": [],
   "source": []
  }
 ],
 "metadata": {
  "kernelspec": {
   "display_name": "py310_agentsAI",
   "language": "python",
   "name": "python3"
  },
  "language_info": {
   "codemirror_mode": {
    "name": "ipython",
    "version": 3
   },
   "file_extension": ".py",
   "mimetype": "text/x-python",
   "name": "python",
   "nbconvert_exporter": "python",
   "pygments_lexer": "ipython3",
   "version": "3.10.16"
  }
 },
 "nbformat": 4,
 "nbformat_minor": 5
}
